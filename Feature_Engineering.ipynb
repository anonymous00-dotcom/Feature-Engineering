{
  "nbformat": 4,
  "nbformat_minor": 0,
  "metadata": {
    "colab": {
      "provenance": []
    },
    "kernelspec": {
      "name": "python3",
      "display_name": "Python 3"
    },
    "language_info": {
      "name": "python"
    }
  },
  "cells": [
    {
      "cell_type": "markdown",
      "source": [
        "#Feature Engineering"
      ],
      "metadata": {
        "id": "BS3EKOpG5f87"
      }
    },
    {
      "cell_type": "markdown",
      "source": [
        "1. What is a parameter?\n",
        "  - A parameter is a configuration variable that is internal to the model and estimated from the data.\n",
        "Example: In linear regression, the slope and intercept of the line are parameters."
      ],
      "metadata": {
        "id": "gktJ3fEc5iLq"
      }
    },
    {
      "cell_type": "markdown",
      "source": [
        " 2. What is correlation?\n",
        "   - Correlation is a statistical relationship between two variables. It tells whether as one variable increases, the other increases or decreases."
      ],
      "metadata": {
        "id": "8Tspc5dG5mT6"
      }
    },
    {
      "cell_type": "markdown",
      "source": [
        "3.What does negative correlation mean?\n",
        "  - A negative correlation means that as one variable increases, the other decreases.\n",
        "Example: Hours spent playing games vs. grades in school."
      ],
      "metadata": {
        "id": "c_G1_H8k5pki"
      }
    },
    {
      "cell_type": "markdown",
      "source": [
        "4. Define Machine Learning. What are the main components in ML?\n",
        "  - Machine Learning (ML) is a field of AI that teaches computers to learn from data and make predictions.\n",
        "\n",
        "   - Main components:\n",
        "\n",
        "1.Data (input features and target)\n",
        "\n",
        "2.Model/Algorithm (like Linear Regression, Decision Tree)\n",
        "\n",
        "3.Loss Function (to measure error)\n",
        "\n",
        "4.Optimizer (to reduce error)\n",
        "\n",
        "5.Training & Testing Process\n"
      ],
      "metadata": {
        "id": "o0cDSyf85uwi"
      }
    },
    {
      "cell_type": "markdown",
      "source": [
        "5. How does loss value help in determining whether the model is good or not?\n",
        "  - Loss value shows how far off the model's predictions are from the real values.\n",
        "\n",
        "Lower loss = better model"
      ],
      "metadata": {
        "id": "uWZtLlCi5zDa"
      }
    },
    {
      "cell_type": "markdown",
      "source": [
        "6. What are continuous and categorical variables?\n",
        "  - Continuous: Numeric values with decimal points (ex- weight, height)\n",
        "\n",
        "  - Categorical: Text-based or discrete values (ex- gender, color)"
      ],
      "metadata": {
        "id": "FXHPSvgy52MS"
      }
    },
    {
      "cell_type": "markdown",
      "source": [
        "7. How do we handle categorical variables in ML?\n",
        "  - Common techniques:\n",
        "\n",
        "  - Label Encoding (e.g. Male = 0, Female = 1)\n",
        "\n",
        "  - One-Hot Encoding (creates binary columns for each category)"
      ],
      "metadata": {
        "id": "H_B-JXC86Egq"
      }
    },
    {
      "cell_type": "markdown",
      "source": [
        "8. What do you mean by training and testing a dataset?\n",
        "  - Training set: Used to train the model\n",
        "\n",
        "  - Testing set: Used to evaluate the model's performance"
      ],
      "metadata": {
        "id": "-zKp_SaL6UlS"
      }
    },
    {
      "cell_type": "markdown",
      "source": [
        "9. What is sklearn.preprocessing?\n",
        "  - sklearn.preprocessing is a module in Python's scikit-learn used for:\n",
        "\n",
        "Scaling\n",
        "\n",
        "Encoding\n",
        "\n",
        "Normalizing data before model training\n",
        "\n",
        "\n"
      ],
      "metadata": {
        "id": "SKXGjU9_6Yny"
      }
    },
    {
      "cell_type": "markdown",
      "source": [
        "10. What is a Test set?\n",
        "  - It is the part of data we do not use for training, but for checking how well the model performs."
      ],
      "metadata": {
        "id": "aHOB2cxO6mYy"
      }
    },
    {
      "cell_type": "markdown",
      "source": [
        "11. How do we split data for model fitting in Python?Using train_test_split() from sklearn.model_selection:"
      ],
      "metadata": {
        "id": "Ux28Nd4N6sWK"
      }
    },
    {
      "cell_type": "code",
      "source": [
        "'''from sklearn.model_selection import train_test_split\n",
        "X_train, X_test, y_train, y_test = train_test_split(X, y, test_size=0.2)\n",
        "'''"
      ],
      "metadata": {
        "colab": {
          "base_uri": "https://localhost:8080/",
          "height": 53
        },
        "id": "LMU62rLb6zKa",
        "outputId": "b601a4df-7469-45fa-c42b-0fbc071072b2"
      },
      "execution_count": 2,
      "outputs": [
        {
          "output_type": "execute_result",
          "data": {
            "text/plain": [
              "'from sklearn.model_selection import train_test_split\\nX_train, X_test, y_train, y_test = train_test_split(X, y, test_size=0.2)\\n'"
            ],
            "application/vnd.google.colaboratory.intrinsic+json": {
              "type": "string"
            }
          },
          "metadata": {},
          "execution_count": 2
        }
      ]
    },
    {
      "cell_type": "markdown",
      "source": [
        "12. How do you approach a Machine Learning problem?\n",
        " -\n",
        " 1.Understand the problem\n",
        "\n",
        " 2.Gather and clean data\n",
        "\n",
        " 3.Explore data (EDA)\n",
        "\n",
        " 4.Feature Engineering\n",
        "\n",
        " 5.Choose and train model\n",
        "\n",
        " 6.Evaluate with test data\n",
        "\n",
        " 7.Improve and deploy"
      ],
      "metadata": {
        "id": "xTT6z7rO6_66"
      }
    },
    {
      "cell_type": "markdown",
      "source": [
        "14. How to find correlation in Python?"
      ],
      "metadata": {
        "id": "wowFR8it7KmS"
      }
    },
    {
      "cell_type": "code",
      "source": [
        "import pandas as pd\n",
        "df.corr()\n"
      ],
      "metadata": {
        "id": "JGnCEewD7Uty"
      },
      "execution_count": null,
      "outputs": []
    },
    {
      "cell_type": "markdown",
      "source": [
        "15. What is causation? Difference between correlation & causation.\n",
        " - Correlation = relationship (not always meaningful)\n",
        "\n",
        " - Causation = one variable causes change in another\n",
        "\n",
        " Ex: Ice cream sales & drowning are correlated (both increase in summer), but one doesn't cause the other!"
      ],
      "metadata": {
        "id": "El8UtHak7VLy"
      }
    },
    {
      "cell_type": "markdown",
      "source": [
        "16.What is an Optimizer? Types of optimizers.\n",
        " - Optimizers update model weights to reduce loss.\n",
        "\n",
        " Types:\n",
        "\n",
        "SGD (Stochastic Gradient Descent)\n",
        "\n",
        "Adam (Adaptive Momentum Estimation)\n",
        "\n",
        "RMSprop"
      ],
      "metadata": {
        "id": "IweF6us37gfC"
      }
    },
    {
      "cell_type": "code",
      "source": [
        "#SGD\n",
        "\n",
        "from keras.optimizers import SGD\n",
        "model.compile(optimizer=SGD(), loss='mse')\n",
        "\n",
        "#Adam\n",
        "from keras.optimizers import Adam\n",
        "model.compile(optimizer=Adam(), loss='mse')\n",
        "\n",
        "#RMSprop\n",
        "from keras.optimizers import RMSprop\n",
        "model.compile(optimizer=RMSprop(), loss='mse')\n"
      ],
      "metadata": {
        "id": "p4YihP5W7x2a"
      },
      "execution_count": null,
      "outputs": []
    },
    {
      "cell_type": "markdown",
      "source": [
        "17. What is sklearn.linear_model?\n",
        " - This module provides linear models like:\n",
        "\n",
        "LinearRegression\n",
        "\n",
        "LogisticRegression\n",
        "\n",
        "Ridge, Lasso"
      ],
      "metadata": {
        "id": "DX4fdl6M7-WC"
      }
    },
    {
      "cell_type": "markdown",
      "source": [
        "18. What does model.fit() do? What arguments must be given?\n",
        " - It trains the model using input and output data."
      ],
      "metadata": {
        "id": "JN6uOeJC8CGp"
      }
    },
    {
      "cell_type": "code",
      "source": [
        "model.fit(X_train, y_train)"
      ],
      "metadata": {
        "id": "5u8ZUE578E_y"
      },
      "execution_count": null,
      "outputs": []
    },
    {
      "cell_type": "markdown",
      "source": [
        "19. What does model.predict() do?What arguments must be given?\n",
        "- It makes predictions using the trained model."
      ],
      "metadata": {
        "id": "qI8k4u-R8GP6"
      }
    },
    {
      "cell_type": "code",
      "source": [
        "y_pred = model.predict(X_test)\n"
      ],
      "metadata": {
        "id": "5CEuked58IkK"
      },
      "execution_count": null,
      "outputs": []
    },
    {
      "cell_type": "markdown",
      "source": [
        "20. What are continuous and categorical variables?\n",
        " - Continuous Variables:\n",
        "These are numerical values that can take any number within a range — even decimals!\n",
        "\n",
        " Examples:\n",
        "\n",
        "Height (e.g., 5.8 feet)\n",
        "\n",
        "Weight (e.g., 60.5 kg)\n",
        "\n",
        "Temperature (e.g., 37.2°C)\n",
        "\n",
        " - Categorical Variables:\n",
        "These are variables that represent categories or groups. They are usually labels or names, not numbers.\n",
        "\n",
        " Examples:\n",
        "\n",
        "Gender (Male, Female)\n",
        "\n",
        "Color (Red, Green, Blue)\n",
        "\n",
        "Type of car (SUV, Sedan, Truck)\n",
        "\n",
        "They can be:\n",
        "\n",
        "Nominal (no order, like color)\n",
        "\n",
        "Ordinal (ordered, like education level: High School < Graduate < Postgraduate)\n"
      ],
      "metadata": {
        "id": "0Gw106C98rzq"
      }
    },
    {
      "cell_type": "markdown",
      "source": [
        " 21. What is feature scaling? Why is it important?\n",
        "  - It normalizes data to a standard range (like 0 to 1).\n",
        "\n",
        "Helps ML models (like KNN or SVM) work better when features are on different scales.**bold text**"
      ],
      "metadata": {
        "id": "yFRsAlYB8Jwq"
      }
    },
    {
      "cell_type": "markdown",
      "source": [
        "22. How do we perform scaling in Python?"
      ],
      "metadata": {
        "id": "MG_6etm58OEC"
      }
    },
    {
      "cell_type": "code",
      "source": [
        "from sklearn.preprocessing import StandardScaler\n",
        "scaler = StandardScaler()\n",
        "X_scaled = scaler.fit_transform(X)"
      ],
      "metadata": {
        "id": "uSVZz1qV8Pl6"
      },
      "execution_count": null,
      "outputs": []
    },
    {
      "cell_type": "markdown",
      "source": [
        "23. What is sklearn.preprocessing?\n",
        "- sklearn.preprocessing is a module in the scikit-learn library used to prepare and transform data before giving it to a machine learning model.\n",
        "\n",
        "It helps with:\n",
        "\n",
        "Scaling numbers (e.g., putting values between 0 and 1)\n",
        "\n",
        "Encoding categorical (text) data into numbers\n",
        "\n",
        "Normalizing data\n",
        "\n",
        "Handling missing values"
      ],
      "metadata": {
        "id": "nBNBYm6O8Qj5"
      }
    },
    {
      "cell_type": "code",
      "source": [
        "from sklearn.preprocessing import StandardScaler, LabelEncoder\n",
        "\n",
        "# Scaling example\n",
        "scaler = StandardScaler()\n",
        "X_scaled = scaler.fit_transform(X)\n",
        "\n",
        "# Encoding example\n",
        "encoder = LabelEncoder()\n",
        "y_encoded = encoder.fit_transform(y)"
      ],
      "metadata": {
        "id": "JauNxaYD9iJZ"
      },
      "execution_count": null,
      "outputs": []
    },
    {
      "cell_type": "markdown",
      "source": [
        "24. How do we split data for model fitting (training and testing) in Python?\n",
        " - We use train_test_split() from sklearn.model_selection to divide our data into two sets:\n",
        "\n",
        "Training Set - used to teach the model\n",
        "\n",
        "Testing Set - used to check how well the model learned"
      ],
      "metadata": {
        "id": "znimfl8_9QLh"
      }
    },
    {
      "cell_type": "code",
      "source": [
        "from sklearn.model_selection import train_test_split\n",
        "\n",
        "# Assume X = features, y = target\n",
        "X_train, X_test, y_train, y_test = train_test_split(X, y, test_size=0.2, random_state=42)"
      ],
      "metadata": {
        "id": "zij_lS6R9tQJ"
      },
      "execution_count": null,
      "outputs": []
    },
    {
      "cell_type": "markdown",
      "source": [
        " 24. Explain data encoding?\n",
        "  - Encoding transforms categorical data to numerical so ML models can process it.\n",
        "Types:\n",
        "\n",
        "Label Encoding\n",
        "\n",
        "One-Hot Encoding\n",
        "\n",
        "Ordinal Encoding"
      ],
      "metadata": {
        "id": "doKRS06599iR"
      }
    }
  ]
}